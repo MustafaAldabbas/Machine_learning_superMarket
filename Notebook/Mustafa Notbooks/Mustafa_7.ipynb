{
 "cells": [
  {
   "cell_type": "code",
   "execution_count": 3,
   "metadata": {},
   "outputs": [
    {
     "name": "stdout",
     "output_type": "stream",
     "text": [
      "Libraries successfully imported!\n"
     ]
    }
   ],
   "source": [
    "# Importing libraries\n",
    "import pandas as pd\n",
    "import numpy as np\n",
    "import seaborn as sns\n",
    "import matplotlib.pyplot as plt\n",
    "import plotly.express as px\n",
    "import re\n",
    "import sklearn\n",
    "import scipy as sp\n",
    "import plotly.graph_objects as go\n",
    "from prophet import Prophet\n",
    "from plotly.subplots import make_subplots\n",
    "from sklearn import datasets, model_selection, metrics\n",
    "from scipy.stats import ttest_ind, boxcox, pearsonr\n",
    "from scipy import stats\n",
    "from sklearn.preprocessing import StandardScaler, MinMaxScaler\n",
    "from sklearn.model_selection import train_test_split\n",
    "from sklearn.metrics import mean_squared_error\n",
    "from catboost import CatBoostRegressor\n",
    "\n",
    "\n",
    "from prophet import Prophet\n",
    "\n",
    "print(\"Libraries successfully imported!\")\n"
   ]
  },
  {
   "cell_type": "markdown",
   "metadata": {},
   "source": [
    "### Understanding the Data\n",
    "\n",
    "* Invoice id: Unique identifier for each transaction\n",
    "* Branch: Identifies the branch (A, B, C)\n",
    "* City: Location of the branches\n",
    "* Customer type: Member or Normal\n",
    "* Gender: Gender of the customer\n",
    "* Product line: Category of the product\n",
    "* Unit price: Price per unit of the product\n",
    "* Quantity: Number of units purchased\n",
    "* Tax: 5% tax on the total price\n",
    "* Total: Total price including tax\n",
    "* Date: Date of purchase\n",
    "* Time: Time of purchase\n",
    "* Payment: Payment method used\n",
    "* COGS: Cost of goods sold\n",
    "* Gross margin percentage: Gross margin percentage\n",
    "* Gross income: Gross income\n",
    "* Rating: Customer rating"
   ]
  },
  {
   "cell_type": "markdown",
   "metadata": {},
   "source": [
    "#### Loading and preparing the data\n"
   ]
  },
  {
   "cell_type": "code",
   "execution_count": 6,
   "metadata": {},
   "outputs": [
    {
     "data": {
      "text/html": [
       "<div>\n",
       "<style scoped>\n",
       "    .dataframe tbody tr th:only-of-type {\n",
       "        vertical-align: middle;\n",
       "    }\n",
       "\n",
       "    .dataframe tbody tr th {\n",
       "        vertical-align: top;\n",
       "    }\n",
       "\n",
       "    .dataframe thead th {\n",
       "        text-align: right;\n",
       "    }\n",
       "</style>\n",
       "<table border=\"1\" class=\"dataframe\">\n",
       "  <thead>\n",
       "    <tr style=\"text-align: right;\">\n",
       "      <th></th>\n",
       "      <th>invoice_id</th>\n",
       "      <th>branch</th>\n",
       "      <th>city</th>\n",
       "      <th>customer_type</th>\n",
       "      <th>gender</th>\n",
       "      <th>product_line</th>\n",
       "      <th>unit_price</th>\n",
       "      <th>quantity</th>\n",
       "      <th>tax_5</th>\n",
       "      <th>total</th>\n",
       "      <th>date</th>\n",
       "      <th>time</th>\n",
       "      <th>payment</th>\n",
       "      <th>cogs</th>\n",
       "      <th>gross_margin_percentage</th>\n",
       "      <th>gross_income</th>\n",
       "      <th>rating</th>\n",
       "    </tr>\n",
       "  </thead>\n",
       "  <tbody>\n",
       "    <tr>\n",
       "      <th>0</th>\n",
       "      <td>750-67-8428</td>\n",
       "      <td>A</td>\n",
       "      <td>Yangon</td>\n",
       "      <td>Member</td>\n",
       "      <td>Female</td>\n",
       "      <td>Health and beauty</td>\n",
       "      <td>74.69</td>\n",
       "      <td>7</td>\n",
       "      <td>26.1415</td>\n",
       "      <td>548.9715</td>\n",
       "      <td>2019-01-05</td>\n",
       "      <td>2024-08-06 13:08:00</td>\n",
       "      <td>Ewallet</td>\n",
       "      <td>522.83</td>\n",
       "      <td>4.761905</td>\n",
       "      <td>26.1415</td>\n",
       "      <td>9.1</td>\n",
       "    </tr>\n",
       "    <tr>\n",
       "      <th>1</th>\n",
       "      <td>226-31-3081</td>\n",
       "      <td>C</td>\n",
       "      <td>Naypyitaw</td>\n",
       "      <td>Normal</td>\n",
       "      <td>Female</td>\n",
       "      <td>Electronic accessories</td>\n",
       "      <td>15.28</td>\n",
       "      <td>5</td>\n",
       "      <td>3.8200</td>\n",
       "      <td>80.2200</td>\n",
       "      <td>2019-03-08</td>\n",
       "      <td>2024-08-06 10:29:00</td>\n",
       "      <td>Cash</td>\n",
       "      <td>76.40</td>\n",
       "      <td>4.761905</td>\n",
       "      <td>3.8200</td>\n",
       "      <td>9.6</td>\n",
       "    </tr>\n",
       "    <tr>\n",
       "      <th>2</th>\n",
       "      <td>631-41-3108</td>\n",
       "      <td>A</td>\n",
       "      <td>Yangon</td>\n",
       "      <td>Normal</td>\n",
       "      <td>Male</td>\n",
       "      <td>Home and lifestyle</td>\n",
       "      <td>46.33</td>\n",
       "      <td>7</td>\n",
       "      <td>16.2155</td>\n",
       "      <td>340.5255</td>\n",
       "      <td>2019-03-03</td>\n",
       "      <td>2024-08-06 13:23:00</td>\n",
       "      <td>Credit card</td>\n",
       "      <td>324.31</td>\n",
       "      <td>4.761905</td>\n",
       "      <td>16.2155</td>\n",
       "      <td>7.4</td>\n",
       "    </tr>\n",
       "    <tr>\n",
       "      <th>3</th>\n",
       "      <td>123-19-1176</td>\n",
       "      <td>A</td>\n",
       "      <td>Yangon</td>\n",
       "      <td>Member</td>\n",
       "      <td>Male</td>\n",
       "      <td>Health and beauty</td>\n",
       "      <td>58.22</td>\n",
       "      <td>8</td>\n",
       "      <td>23.2880</td>\n",
       "      <td>489.0480</td>\n",
       "      <td>2019-01-27</td>\n",
       "      <td>2024-08-06 20:33:00</td>\n",
       "      <td>Ewallet</td>\n",
       "      <td>465.76</td>\n",
       "      <td>4.761905</td>\n",
       "      <td>23.2880</td>\n",
       "      <td>8.4</td>\n",
       "    </tr>\n",
       "    <tr>\n",
       "      <th>4</th>\n",
       "      <td>373-73-7910</td>\n",
       "      <td>A</td>\n",
       "      <td>Yangon</td>\n",
       "      <td>Normal</td>\n",
       "      <td>Male</td>\n",
       "      <td>Sports and travel</td>\n",
       "      <td>86.31</td>\n",
       "      <td>7</td>\n",
       "      <td>30.2085</td>\n",
       "      <td>634.3785</td>\n",
       "      <td>2019-02-08</td>\n",
       "      <td>2024-08-06 10:37:00</td>\n",
       "      <td>Ewallet</td>\n",
       "      <td>604.17</td>\n",
       "      <td>4.761905</td>\n",
       "      <td>30.2085</td>\n",
       "      <td>5.3</td>\n",
       "    </tr>\n",
       "  </tbody>\n",
       "</table>\n",
       "</div>"
      ],
      "text/plain": [
       "    invoice_id branch       city customer_type  gender  \\\n",
       "0  750-67-8428      A     Yangon        Member  Female   \n",
       "1  226-31-3081      C  Naypyitaw        Normal  Female   \n",
       "2  631-41-3108      A     Yangon        Normal    Male   \n",
       "3  123-19-1176      A     Yangon        Member    Male   \n",
       "4  373-73-7910      A     Yangon        Normal    Male   \n",
       "\n",
       "             product_line  unit_price  quantity    tax_5     total  \\\n",
       "0       Health and beauty       74.69         7  26.1415  548.9715   \n",
       "1  Electronic accessories       15.28         5   3.8200   80.2200   \n",
       "2      Home and lifestyle       46.33         7  16.2155  340.5255   \n",
       "3       Health and beauty       58.22         8  23.2880  489.0480   \n",
       "4       Sports and travel       86.31         7  30.2085  634.3785   \n",
       "\n",
       "         date                 time      payment    cogs  \\\n",
       "0  2019-01-05  2024-08-06 13:08:00      Ewallet  522.83   \n",
       "1  2019-03-08  2024-08-06 10:29:00         Cash   76.40   \n",
       "2  2019-03-03  2024-08-06 13:23:00  Credit card  324.31   \n",
       "3  2019-01-27  2024-08-06 20:33:00      Ewallet  465.76   \n",
       "4  2019-02-08  2024-08-06 10:37:00      Ewallet  604.17   \n",
       "\n",
       "   gross_margin_percentage  gross_income  rating  \n",
       "0                 4.761905       26.1415     9.1  \n",
       "1                 4.761905        3.8200     9.6  \n",
       "2                 4.761905       16.2155     7.4  \n",
       "3                 4.761905       23.2880     8.4  \n",
       "4                 4.761905       30.2085     5.3  "
      ]
     },
     "execution_count": 6,
     "metadata": {},
     "output_type": "execute_result"
    }
   ],
   "source": [
    "#import dataset\n",
    "df = pd.read_csv(\"/Users/mustafaaldabbas/Documents/GitHub/Machine_learning_superstore/df_cleaned.csv\")\n",
    "df.head()"
   ]
  },
  {
   "cell_type": "markdown",
   "metadata": {},
   "source": [
    "2. create new dataframe from specific columns"
   ]
  },
  {
   "cell_type": "code",
   "execution_count": 7,
   "metadata": {},
   "outputs": [
    {
     "data": {
      "text/html": [
       "<div>\n",
       "<style scoped>\n",
       "    .dataframe tbody tr th:only-of-type {\n",
       "        vertical-align: middle;\n",
       "    }\n",
       "\n",
       "    .dataframe tbody tr th {\n",
       "        vertical-align: top;\n",
       "    }\n",
       "\n",
       "    .dataframe thead th {\n",
       "        text-align: right;\n",
       "    }\n",
       "</style>\n",
       "<table border=\"1\" class=\"dataframe\">\n",
       "  <thead>\n",
       "    <tr style=\"text-align: right;\">\n",
       "      <th></th>\n",
       "      <th>date</th>\n",
       "      <th>total</th>\n",
       "      <th>year</th>\n",
       "      <th>month</th>\n",
       "      <th>day</th>\n",
       "    </tr>\n",
       "  </thead>\n",
       "  <tbody>\n",
       "    <tr>\n",
       "      <th>84</th>\n",
       "      <td>2019-03-26</td>\n",
       "      <td>1962.5130</td>\n",
       "      <td>2019</td>\n",
       "      <td>3</td>\n",
       "      <td>26</td>\n",
       "    </tr>\n",
       "    <tr>\n",
       "      <th>85</th>\n",
       "      <td>2019-03-27</td>\n",
       "      <td>2902.8195</td>\n",
       "      <td>2019</td>\n",
       "      <td>3</td>\n",
       "      <td>27</td>\n",
       "    </tr>\n",
       "    <tr>\n",
       "      <th>86</th>\n",
       "      <td>2019-03-28</td>\n",
       "      <td>2229.4020</td>\n",
       "      <td>2019</td>\n",
       "      <td>3</td>\n",
       "      <td>28</td>\n",
       "    </tr>\n",
       "    <tr>\n",
       "      <th>87</th>\n",
       "      <td>2019-03-29</td>\n",
       "      <td>4023.2430</td>\n",
       "      <td>2019</td>\n",
       "      <td>3</td>\n",
       "      <td>29</td>\n",
       "    </tr>\n",
       "    <tr>\n",
       "      <th>88</th>\n",
       "      <td>2019-03-30</td>\n",
       "      <td>4487.0595</td>\n",
       "      <td>2019</td>\n",
       "      <td>3</td>\n",
       "      <td>30</td>\n",
       "    </tr>\n",
       "  </tbody>\n",
       "</table>\n",
       "</div>"
      ],
      "text/plain": [
       "         date      total  year  month  day\n",
       "84 2019-03-26  1962.5130  2019      3   26\n",
       "85 2019-03-27  2902.8195  2019      3   27\n",
       "86 2019-03-28  2229.4020  2019      3   28\n",
       "87 2019-03-29  4023.2430  2019      3   29\n",
       "88 2019-03-30  4487.0595  2019      3   30"
      ]
     },
     "execution_count": 7,
     "metadata": {},
     "output_type": "execute_result"
    }
   ],
   "source": [
    "# Convert the date column to datetime format\n",
    "df['date'] = pd.to_datetime(df['date'])\n",
    "\n",
    "# Extract year, month, and day from the date column\n",
    "df['year'] = df['date'].dt.year\n",
    "df['month'] = df['date'].dt.month\n",
    "df['day'] = df['date'].dt.day\n",
    "\n",
    "# Aggregate sales data by date\n",
    "Total_Sales_by_date = df.groupby('date')['total'].sum().reset_index()\n",
    "\n",
    "# Extract year, month, and day from the date column\n",
    "Total_Sales_by_date['year'] = Total_Sales_by_date['date'].dt.year\n",
    "Total_Sales_by_date['month'] = Total_Sales_by_date['date'].dt.month\n",
    "Total_Sales_by_date['day'] = Total_Sales_by_date['date'].dt.day\n",
    "\n",
    "# Display the first few rows of the aggregated sales data\n",
    "Total_Sales_by_date.tail()"
   ]
  },
  {
   "cell_type": "code",
   "execution_count": 4,
   "metadata": {},
   "outputs": [
    {
     "data": {
      "text/plain": [
       "<pandas.core.groupby.generic.DataFrameGroupBy object at 0x7fec1a28e850>"
      ]
     },
     "execution_count": 4,
     "metadata": {},
     "output_type": "execute_result"
    }
   ],
   "source": [
    "# Aggregate additional columns by date and city separately\n",
    "additional_columns = df.groupby(['date', 'branch'])\n",
    "additional_columns"
   ]
  },
  {
   "cell_type": "markdown",
   "metadata": {},
   "source": [
    "## Create new features "
   ]
  },
  {
   "cell_type": "code",
   "execution_count": 13,
   "metadata": {},
   "outputs": [
    {
     "data": {
      "text/html": [
       "<div>\n",
       "<style scoped>\n",
       "    .dataframe tbody tr th:only-of-type {\n",
       "        vertical-align: middle;\n",
       "    }\n",
       "\n",
       "    .dataframe tbody tr th {\n",
       "        vertical-align: top;\n",
       "    }\n",
       "\n",
       "    .dataframe thead th {\n",
       "        text-align: right;\n",
       "    }\n",
       "</style>\n",
       "<table border=\"1\" class=\"dataframe\">\n",
       "  <thead>\n",
       "    <tr style=\"text-align: right;\">\n",
       "      <th></th>\n",
       "      <th>date</th>\n",
       "      <th>unit_price</th>\n",
       "      <th>quantity</th>\n",
       "      <th>branch</th>\n",
       "      <th>rating</th>\n",
       "      <th>day</th>\n",
       "      <th>month</th>\n",
       "      <th>year</th>\n",
       "      <th>total</th>\n",
       "    </tr>\n",
       "  </thead>\n",
       "  <tbody>\n",
       "    <tr>\n",
       "      <th>856</th>\n",
       "      <td>2019-01-01</td>\n",
       "      <td>21.12</td>\n",
       "      <td>8</td>\n",
       "      <td>B</td>\n",
       "      <td>6.3</td>\n",
       "      <td>1</td>\n",
       "      <td>1</td>\n",
       "      <td>2019</td>\n",
       "      <td>177.408</td>\n",
       "    </tr>\n",
       "    <tr>\n",
       "      <th>567</th>\n",
       "      <td>2019-01-01</td>\n",
       "      <td>65.74</td>\n",
       "      <td>9</td>\n",
       "      <td>A</td>\n",
       "      <td>7.7</td>\n",
       "      <td>1</td>\n",
       "      <td>1</td>\n",
       "      <td>2019</td>\n",
       "      <td>621.243</td>\n",
       "    </tr>\n",
       "    <tr>\n",
       "      <th>245</th>\n",
       "      <td>2019-01-01</td>\n",
       "      <td>47.59</td>\n",
       "      <td>8</td>\n",
       "      <td>A</td>\n",
       "      <td>5.7</td>\n",
       "      <td>1</td>\n",
       "      <td>1</td>\n",
       "      <td>2019</td>\n",
       "      <td>399.756</td>\n",
       "    </tr>\n",
       "    <tr>\n",
       "      <th>696</th>\n",
       "      <td>2019-01-01</td>\n",
       "      <td>27.04</td>\n",
       "      <td>4</td>\n",
       "      <td>A</td>\n",
       "      <td>6.9</td>\n",
       "      <td>1</td>\n",
       "      <td>1</td>\n",
       "      <td>2019</td>\n",
       "      <td>113.568</td>\n",
       "    </tr>\n",
       "    <tr>\n",
       "      <th>523</th>\n",
       "      <td>2019-01-01</td>\n",
       "      <td>62.87</td>\n",
       "      <td>2</td>\n",
       "      <td>C</td>\n",
       "      <td>5.0</td>\n",
       "      <td>1</td>\n",
       "      <td>1</td>\n",
       "      <td>2019</td>\n",
       "      <td>132.027</td>\n",
       "    </tr>\n",
       "    <tr>\n",
       "      <th>...</th>\n",
       "      <td>...</td>\n",
       "      <td>...</td>\n",
       "      <td>...</td>\n",
       "      <td>...</td>\n",
       "      <td>...</td>\n",
       "      <td>...</td>\n",
       "      <td>...</td>\n",
       "      <td>...</td>\n",
       "      <td>...</td>\n",
       "    </tr>\n",
       "    <tr>\n",
       "      <th>158</th>\n",
       "      <td>2019-03-30</td>\n",
       "      <td>97.22</td>\n",
       "      <td>9</td>\n",
       "      <td>B</td>\n",
       "      <td>6.0</td>\n",
       "      <td>30</td>\n",
       "      <td>3</td>\n",
       "      <td>2019</td>\n",
       "      <td>918.729</td>\n",
       "    </tr>\n",
       "    <tr>\n",
       "      <th>881</th>\n",
       "      <td>2019-03-30</td>\n",
       "      <td>10.18</td>\n",
       "      <td>8</td>\n",
       "      <td>C</td>\n",
       "      <td>9.5</td>\n",
       "      <td>30</td>\n",
       "      <td>3</td>\n",
       "      <td>2019</td>\n",
       "      <td>85.512</td>\n",
       "    </tr>\n",
       "    <tr>\n",
       "      <th>963</th>\n",
       "      <td>2019-03-30</td>\n",
       "      <td>96.82</td>\n",
       "      <td>3</td>\n",
       "      <td>C</td>\n",
       "      <td>6.7</td>\n",
       "      <td>30</td>\n",
       "      <td>3</td>\n",
       "      <td>2019</td>\n",
       "      <td>304.983</td>\n",
       "    </tr>\n",
       "    <tr>\n",
       "      <th>937</th>\n",
       "      <td>2019-03-30</td>\n",
       "      <td>89.48</td>\n",
       "      <td>5</td>\n",
       "      <td>A</td>\n",
       "      <td>7.4</td>\n",
       "      <td>30</td>\n",
       "      <td>3</td>\n",
       "      <td>2019</td>\n",
       "      <td>469.770</td>\n",
       "    </tr>\n",
       "    <tr>\n",
       "      <th>474</th>\n",
       "      <td>2019-03-30</td>\n",
       "      <td>64.44</td>\n",
       "      <td>5</td>\n",
       "      <td>A</td>\n",
       "      <td>6.6</td>\n",
       "      <td>30</td>\n",
       "      <td>3</td>\n",
       "      <td>2019</td>\n",
       "      <td>338.310</td>\n",
       "    </tr>\n",
       "  </tbody>\n",
       "</table>\n",
       "<p>1000 rows × 9 columns</p>\n",
       "</div>"
      ],
      "text/plain": [
       "          date  unit_price  quantity branch  rating  day  month  year    total\n",
       "856 2019-01-01       21.12         8      B     6.3    1      1  2019  177.408\n",
       "567 2019-01-01       65.74         9      A     7.7    1      1  2019  621.243\n",
       "245 2019-01-01       47.59         8      A     5.7    1      1  2019  399.756\n",
       "696 2019-01-01       27.04         4      A     6.9    1      1  2019  113.568\n",
       "523 2019-01-01       62.87         2      C     5.0    1      1  2019  132.027\n",
       "..         ...         ...       ...    ...     ...  ...    ...   ...      ...\n",
       "158 2019-03-30       97.22         9      B     6.0   30      3  2019  918.729\n",
       "881 2019-03-30       10.18         8      C     9.5   30      3  2019   85.512\n",
       "963 2019-03-30       96.82         3      C     6.7   30      3  2019  304.983\n",
       "937 2019-03-30       89.48         5      A     7.4   30      3  2019  469.770\n",
       "474 2019-03-30       64.44         5      A     6.6   30      3  2019  338.310\n",
       "\n",
       "[1000 rows x 9 columns]"
      ]
     },
     "execution_count": 13,
     "metadata": {},
     "output_type": "execute_result"
    }
   ],
   "source": [
    "# Create a new DataFrame with the specified columns\n",
    "df1 = df[['date', 'unit_price', 'quantity', 'branch', 'rating', 'day', 'month', 'year', 'total']]\n",
    "# Sort the DataFrame by date in ascending order\n",
    "df1 = df1.sort_values(by='date')\n",
    "df1"
   ]
  },
  {
   "cell_type": "code",
   "execution_count": 14,
   "metadata": {},
   "outputs": [
    {
     "name": "stdout",
     "output_type": "stream",
     "text": [
      "Index(['date', 'total', 'year', 'month', 'day'], dtype='object')\n"
     ]
    }
   ],
   "source": [
    "print(Total_Sales_by_date.columns)"
   ]
  },
  {
   "cell_type": "markdown",
   "metadata": {},
   "source": [
    "### 3. EDA to see total sales over time in all branches A, B , C"
   ]
  },
  {
   "cell_type": "code",
   "execution_count": 16,
   "metadata": {},
   "outputs": [
    {
     "data": {
      "image/png": "[encoded data removed]",
      "text/plain": [
       "<Figure size 800x400 with 1 Axes>"
      ]
     },
     "metadata": {},
     "output_type": "display_data"
    }
   ],
   "source": [
    "# Plot the total sales over time\n",
    "plt.figure(figsize=(8, 4))\n",
    "plt.plot(Total_Sales_by_date['date'], Total_Sales_by_date['total'], marker='o')\n",
    "plt.title('Total sales by date')\n",
    "plt.xlabel('Date')\n",
    "plt.ylabel('total sales')\n",
    "plt.grid(True)\n",
    "plt.show()"
   ]
  },
  {
   "cell_type": "markdown",
   "metadata": {},
   "source": [
    "### Next Steps in EDA\n",
    "1- Seasonal Decomposition:\n",
    "* Perform a seasonal decomposition to understand the trend, seasonality, and residual components.\n",
    "\n",
    "2- Moving Average:\n",
    "* Plot a moving average to smooth out short-term fluctuations and highlight longer-term trends."
   ]
  },
  {
   "cell_type": "code",
   "execution_count": 19,
   "metadata": {},
   "outputs": [
    {
     "data": {
      "image/png": "[encoded data removed]",
      "text/plain": [
       "<Figure size 800x600 with 4 Axes>"
      ]
     },
     "metadata": {},
     "output_type": "display_data"
    }
   ],
   "source": [
    "from statsmodels.tsa.seasonal import seasonal_decompose\n",
    "\n",
    "# Perform seasonal decomposition\n",
    "decomposition = seasonal_decompose(Total_Sales_by_date['total'], model='additive', period=30)\n",
    "\n",
    "# Plot the decomposition results\n",
    "fig, (ax1, ax2, ax3, ax4) = plt.subplots(4, 1, figsize=(8, 6), sharex=True)\n",
    "\n",
    "ax1.plot(decomposition.observed)\n",
    "ax1.set_ylabel('Observed')\n",
    "ax1.set_title('Seasonal Decomposition')\n",
    "\n",
    "ax2.plot(decomposition.trend)\n",
    "ax2.set_ylabel('Trend')\n",
    "\n",
    "ax3.plot(decomposition.seasonal)\n",
    "ax3.set_ylabel('Seasonal')\n",
    "\n",
    "ax4.plot(decomposition.resid)\n",
    "ax4.set_ylabel('Residual')\n",
    "ax4.set_xlabel('Date')\n",
    "\n",
    "plt.show()"
   ]
  },
  {
   "cell_type": "markdown",
   "metadata": {},
   "source": [
    "##### The seasonal decomposition plot shows the observed data, trend, seasonal component, and residuals. Here's a summary of the components:\n",
    "- **Observed:** The original Gross income data.\n",
    "- **Trend:** The overall direction of the data over time.\n",
    "- **Seasonal:** Repeating patterns at a fixed period (monthly in this case).\n",
    "- **Residual:** The remaining variations after removing the trend and seasonal components."
   ]
  },
  {
   "cell_type": "markdown",
   "metadata": {},
   "source": [
    "### 4. Feature engineering"
   ]
  },
  {
   "cell_type": "markdown",
   "metadata": {},
   "source": [
    "1. Create Separate DataFrames for Each Branch:1. Create Separate DataFrames for Each Branch:"
   ]
  },
  {
   "cell_type": "code",
   "execution_count": 20,
   "metadata": {},
   "outputs": [],
   "source": [
    "# Create separate DataFrames for each branch\n",
    "branch_a_df = df1[df1['branch'] == 'A']\n",
    "branch_b_df = df1[df1['branch'] == 'B']\n",
    "branch_c_df = df1[df1['branch'] == 'C']\n"
   ]
  },
  {
   "cell_type": "markdown",
   "metadata": {},
   "source": [
    "2. Aggregate Data for Each Branch:"
   ]
  },
  {
   "cell_type": "code",
   "execution_count": 21,
   "metadata": {},
   "outputs": [],
   "source": [
    "# Function to aggregate data for a branch\n",
    "def aggregate_branch_data(branch_df):\n",
    "    return branch_df.groupby('date').agg({\n",
    "        'unit_price': 'mean',\n",
    "        'quantity': 'sum',\n",
    "        'rating': 'mean',\n",
    "        'day': 'first',\n",
    "        'month': 'first',\n",
    "        'year': 'first',\n",
    "        'total': 'sum'\n",
    "    }).reset_index()\n",
    "\n",
    "# Aggregate for each branch\n",
    "branch_a_agg = aggregate_branch_data(branch_a_df)\n",
    "branch_b_agg = aggregate_branch_data(branch_b_df)\n",
    "branch_c_agg = aggregate_branch_data(branch_c_df)\n",
    "\n",
    "# Add branch identifier\n",
    "branch_a_agg['branch'] = 'A'\n",
    "branch_b_agg['branch'] = 'B'\n",
    "branch_c_agg['branch'] = 'C'\n"
   ]
  },
  {
   "cell_type": "markdown",
   "metadata": {},
   "source": [
    "3. Concatenate Aggregated DataFrames:"
   ]
  },
  {
   "cell_type": "code",
   "execution_count": 22,
   "metadata": {},
   "outputs": [],
   "source": [
    "# Concatenate the DataFrames\n",
    "combined_df = pd.concat([branch_a_agg, branch_b_agg, branch_c_agg], ignore_index=True)\n",
    "\n",
    "# Convert the 'date' column to datetime format and sort\n",
    "combined_df['date'] = pd.to_datetime(combined_df['date'])\n",
    "combined_df = combined_df.sort_values(by='date').reset_index(drop=True)\n"
   ]
  },
  {
   "cell_type": "markdown",
   "metadata": {},
   "source": [
    "4. One-Hot Encoding of Categorical Variables:\n"
   ]
  },
  {
   "cell_type": "code",
   "execution_count": 23,
   "metadata": {},
   "outputs": [],
   "source": [
    "# One-hot encode the 'branch' column\n",
    "from sklearn.preprocessing import OneHotEncoder\n",
    "\n",
    "encoder = OneHotEncoder(drop='first', sparse=False)\n",
    "branch_encoded = encoder.fit_transform(combined_df[['branch']])\n",
    "\n",
    "# Create a DataFrame with the one-hot encoded branch data\n",
    "branch_encoded_df = pd.DataFrame(branch_encoded, columns=encoder.get_feature_names_out(['branch']))\n",
    "\n",
    "# Concatenate the one-hot encoded columns to the original dataframe\n",
    "combined_df_encoded = pd.concat([combined_df.drop(columns=['branch']), branch_encoded_df], axis=1)\n"
   ]
  },
  {
   "cell_type": "markdown",
   "metadata": {},
   "source": [
    "5. Shift Lag and Rolling Lag Moving Average:"
   ]
  },
  {
   "cell_type": "code",
   "execution_count": 24,
   "metadata": {},
   "outputs": [],
   "source": [
    "# Create lagged versions of 'quantity' and 'unit_price'\n",
    "combined_df_encoded['quantity_lag1'] = combined_df_encoded['quantity'].shift(1)\n",
    "combined_df_encoded['unit_price_lag1'] = combined_df_encoded['unit_price'].shift(1)\n",
    "\n",
    "# Create rolling averages of 'quantity' and 'unit_price' with a window of 7\n",
    "combined_df_encoded['quantity_roll7'] = combined_df_encoded['quantity'].rolling(window=7).mean()\n",
    "combined_df_encoded['unit_price_roll7'] = combined_df_encoded['unit_price'].rolling(window=7).mean()\n"
   ]
  },
  {
   "cell_type": "markdown",
   "metadata": {},
   "source": [
    "6. Transform 'Day' Column into Sine and Cosine Components:"
   ]
  },
  {
   "cell_type": "code",
   "execution_count": 25,
   "metadata": {},
   "outputs": [],
   "source": [
    "# Transform 'day' column into sine and cosine components\n",
    "combined_df_encoded['day_sin'] = np.sin(2 * np.pi * combined_df_encoded['day'] / 31)\n",
    "combined_df_encoded['day_cos'] = np.cos(2 * np.pi * combined_df_encoded['day'] / 31)\n"
   ]
  },
  {
   "cell_type": "markdown",
   "metadata": {},
   "source": [
    "7. Drop Rows with NaN Values and Calculate Rows Lost:"
   ]
  },
  {
   "cell_type": "code",
   "execution_count": 26,
   "metadata": {},
   "outputs": [],
   "source": [
    "# Drop rows with NaN values resulting from the lag and rolling operations\n",
    "combined_df_encoded_dropped = combined_df_encoded.dropna().reset_index(drop=True)\n"
   ]
  },
  {
   "cell_type": "markdown",
   "metadata": {},
   "source": [
    "### Model Development \n",
    "#### Train Test Split\n"
   ]
  },
  {
   "cell_type": "code",
   "execution_count": 27,
   "metadata": {},
   "outputs": [],
   "source": [
    "# Prepare the data\n",
    "from sklearn.model_selection import train_test_split\n",
    "\n",
    "# Prepare the data\n",
    "features = combined_df_encoded_dropped.drop(columns=['date','total'])\n",
    "target = combined_df_encoded_dropped['total']\n",
    "\n",
    "# Split the data into training and testing sets\n",
    "X_train, X_test, y_train, y_test = train_test_split(features, target, test_size=0.2, random_state=42)"
   ]
  },
  {
   "cell_type": "markdown",
   "metadata": {},
   "source": [
    "#### Normalization"
   ]
  },
  {
   "cell_type": "code",
   "execution_count": 28,
   "metadata": {},
   "outputs": [],
   "source": [
    "from sklearn.preprocessing import MinMaxScaler\n",
    "normalizer = MinMaxScaler()\n",
    "\n",
    "#Fit it to our training data\n",
    "#Transforming our training and testing data\n",
    "X_train_norm = normalizer.fit_transform(X_train)\n",
    "X_test_norm = normalizer.transform(X_test)\n",
    "\n",
    "X_train_norm = pd.DataFrame(X_train_norm, columns = X_train.columns)\n",
    "X_test_norm = pd.DataFrame(X_test_norm, columns = X_test.columns)\n"
   ]
  },
  {
   "cell_type": "markdown",
   "metadata": {},
   "source": [
    "#### Model 1: Linear Regression\n",
    "- MSE (Mean Squared Error): Lower is better.\n",
    "- RMSE (Root Mean Squared Error): Lower is better.\n",
    "- MAE (Mean Absolute Error): Lower is better.\n",
    "- R² Score: Higher is better."
   ]
  },
  {
   "cell_type": "code",
   "execution_count": 29,
   "metadata": {},
   "outputs": [
    {
     "name": "stdout",
     "output_type": "stream",
     "text": [
      "Mean Squared Error (MSE): 39061.377943373016\n",
      "Root Mean Squared Error (RMSE): 197.63951513645497\n",
      "Mean Absolute Error (MAE): 153.2399170238527\n",
      "R2 Score: 0.9512265726254266\n"
     ]
    }
   ],
   "source": [
    "from sklearn.linear_model import LinearRegression\n",
    "from sklearn.metrics import mean_squared_error, r2_score, mean_absolute_error\n",
    "import numpy as np\n",
    "\n",
    "# Initialize the Linear Regressor\n",
    "linear_model = LinearRegression()\n",
    "\n",
    "# Train the Linear Regression model\n",
    "linear_model.fit(X_train, y_train)\n",
    "\n",
    "# Make predictions on the test set\n",
    "linear_predictions = linear_model.predict(X_test)\n",
    "\n",
    "# Calculate evaluation metrics\n",
    "linear_mse = mean_squared_error(y_test, linear_predictions)\n",
    "linear_rmse = np.sqrt(linear_mse)\n",
    "linear_mae = mean_absolute_error(y_test, linear_predictions)\n",
    "linear_r2 = r2_score(y_test, linear_predictions)\n",
    "\n",
    "# Print the results\n",
    "print('Mean Squared Error (MSE):', linear_mse)\n",
    "print('Root Mean Squared Error (RMSE):', linear_rmse)\n",
    "print('Mean Absolute Error (MAE):', linear_mae)\n",
    "print('R2 Score:', linear_r2)\n"
   ]
  },
  {
   "cell_type": "markdown",
   "metadata": {},
   "source": [
    " #### Model 2:  Decision Tree Regressor"
   ]
  },
  {
   "cell_type": "code",
   "execution_count": 44,
   "metadata": {},
   "outputs": [
    {
     "name": "stdout",
     "output_type": "stream",
     "text": [
      "Mean Absolute Error (MAE): 281.6818846153846\n",
      "Mean Squared Error (MSE): 135686.63866416347\n",
      "Root Mean Squared Error (RMSE): 368.35667316361116\n",
      "R2 Score: 0.8305768315142269\n"
     ]
    }
   ],
   "source": [
    "from sklearn.tree import DecisionTreeRegressor\n",
    "from sklearn.metrics import mean_squared_error, r2_score, mean_absolute_error\n",
    "import numpy as np\n",
    "\n",
    "# Train the Decision Tree Regressor\n",
    "dt_model = DecisionTreeRegressor(max_depth=10)\n",
    "dt_model.fit(X_train, y_train)\n",
    "\n",
    "# Make predictions\n",
    "dt_predictions = dt_model.predict(X_test)\n",
    "\n",
    "# Calculate evaluation metrics\n",
    "dt_mae = mean_absolute_error(y_test, dt_predictions)\n",
    "dt_mse = mean_squared_error(y_test, dt_predictions)\n",
    "dt_rmse = np.sqrt(dt_mse)\n",
    "dt_r2 = r2_score(y_test, dt_predictions)\n",
    "\n",
    "# Print the results\n",
    "print('Mean Absolute Error (MAE):', dt_mae)\n",
    "print('Mean Squared Error (MSE):', dt_mse)\n",
    "print('Root Mean Squared Error (RMSE):', dt_rmse)\n",
    "print('R2 Score:', dt_r2)\n",
    "\n"
   ]
  },
  {
   "cell_type": "markdown",
   "metadata": {},
   "source": [
    "### Model 3: Random Forest Regressor"
   ]
  },
  {
   "cell_type": "code",
   "execution_count": 45,
   "metadata": {},
   "outputs": [
    {
     "name": "stdout",
     "output_type": "stream",
     "text": [
      "Mean Squared Error (MSE): 65424.31630110095\n",
      "Root Mean Squared Error (RMSE): 255.78177476337314\n",
      "Mean Absolute Error (MAE): 174.47372048076937\n",
      "R2 Score: 0.9183088690760274\n"
     ]
    }
   ],
   "source": [
    "from sklearn.ensemble import RandomForestRegressor\n",
    "from sklearn.metrics import mean_squared_error, r2_score, mean_absolute_error\n",
    "import numpy as np\n",
    "\n",
    "# Train the Random Forest Regressor\n",
    "rf_model = RandomForestRegressor(random_state=42)\n",
    "rf_model.fit(X_train, y_train)\n",
    "\n",
    "# Make predictions\n",
    "rf_predictions = rf_model.predict(X_test)\n",
    "\n",
    "# Calculate evaluation metrics\n",
    "rf_mse = mean_squared_error(y_test, rf_predictions)\n",
    "rf_rmse = np.sqrt(rf_mse)\n",
    "rf_mae = mean_absolute_error(y_test, rf_predictions)\n",
    "rf_r2 = r2_score(y_test, rf_predictions)\n",
    "\n",
    "# Print the results\n",
    "print('Mean Squared Error (MSE):', rf_mse)\n",
    "print('Root Mean Squared Error (RMSE):', rf_rmse)\n",
    "print('Mean Absolute Error (MAE):', rf_mae)\n",
    "print('R2 Score:', rf_r2)\n"
   ]
  },
  {
   "cell_type": "markdown",
   "metadata": {},
   "source": [
    "### Model 4: Ensemple Methods: Gradient Boosting Regressor"
   ]
  },
  {
   "cell_type": "code",
   "execution_count": 47,
   "metadata": {},
   "outputs": [
    {
     "name": "stdout",
     "output_type": "stream",
     "text": [
      "Mean Squared Error (MSE): 41098.46144208309\n",
      "Root Mean Squared Error (RMSE): 202.7275547183537\n",
      "Mean Absolute Error (MAE): 153.76479519296706\n",
      "R2 Score: 0.948682997633671\n"
     ]
    }
   ],
   "source": [
    "from sklearn.ensemble import GradientBoostingRegressor\n",
    "from sklearn.metrics import mean_squared_error, r2_score, mean_absolute_error\n",
    "import numpy as np\n",
    "\n",
    "# Train the Gradient Boosting Regressor\n",
    "gb_model = GradientBoostingRegressor(n_estimators=100, random_state=42)\n",
    "gb_model.fit(X_train, y_train)\n",
    "\n",
    "# Make predictions\n",
    "gb_predictions = gb_model.predict(X_test)\n",
    "\n",
    "# Calculate evaluation metrics\n",
    "gb_mse = mean_squared_error(y_test, gb_predictions)\n",
    "gb_rmse = np.sqrt(gb_mse)\n",
    "gb_mae = mean_absolute_error(y_test, gb_predictions)\n",
    "gb_r2 = r2_score(y_test, gb_predictions)\n",
    "\n",
    "# Print the results\n",
    "print('Mean Squared Error (MSE):', gb_mse)\n",
    "print('Root Mean Squared Error (RMSE):', gb_rmse)\n",
    "print('Mean Absolute Error (MAE):', gb_mae)\n",
    "print('R2 Score:', gb_r2)\n"
   ]
  },
  {
   "cell_type": "markdown",
   "metadata": {},
   "source": [
    "### Model 5: K-Nearest Neighbors Regressor"
   ]
  },
  {
   "cell_type": "code",
   "execution_count": 48,
   "metadata": {},
   "outputs": [
    {
     "name": "stdout",
     "output_type": "stream",
     "text": [
      "Mean Squared Error (MSE): 133839.4184493369\n",
      "Root Mean Squared Error (RMSE): 365.84070091959\n",
      "Mean Absolute Error (MAE): 292.2414923076923\n",
      "R2 Score: 0.8328833364491859\n"
     ]
    }
   ],
   "source": [
    "from sklearn.neighbors import KNeighborsRegressor\n",
    "from sklearn.metrics import mean_squared_error, r2_score, mean_absolute_error\n",
    "import numpy as np\n",
    "\n",
    "# Train the K-Nearest Neighbors Regressor\n",
    "knn_model = KNeighborsRegressor(n_neighbors=5)\n",
    "knn_model.fit(X_train, y_train)\n",
    "\n",
    "# Make predictions\n",
    "knn_predictions = knn_model.predict(X_test)\n",
    "\n",
    "# Calculate evaluation metrics\n",
    "knn_mse = mean_squared_error(y_test, knn_predictions)\n",
    "knn_rmse = np.sqrt(knn_mse)\n",
    "knn_mae = mean_absolute_error(y_test, knn_predictions)\n",
    "knn_r2 = r2_score(y_test, knn_predictions)\n",
    "\n",
    "# Print the results\n",
    "print('Mean Squared Error (MSE):', knn_mse)\n",
    "print('Root Mean Squared Error (RMSE):', knn_rmse)\n",
    "print('Mean Absolute Error (MAE):', knn_mae)\n",
    "print('R2 Score:', knn_r2)\n"
   ]
  },
  {
   "cell_type": "markdown",
   "metadata": {},
   "source": [
    "### Model 6: CatBoost"
   ]
  },
  {
   "cell_type": "code",
   "execution_count": 49,
   "metadata": {},
   "outputs": [
    {
     "name": "stdout",
     "output_type": "stream",
     "text": [
      "Mean Squared Error (MSE): 40401.85365357367\n",
      "Root Mean Squared Error (RMSE): 201.00212350513533\n",
      "Mean Absolute Error (MAE): 147.3118596871508\n",
      "R2 Score: 0.9495528069228028\n"
     ]
    }
   ],
   "source": [
    "from catboost import CatBoostRegressor\n",
    "from sklearn.metrics import mean_squared_error, r2_score, mean_absolute_error\n",
    "import numpy as np\n",
    "\n",
    "# Initialize CatBoostRegressor\n",
    "model = CatBoostRegressor(iterations=1000, depth=3, learning_rate=0.1, loss_function='RMSE', verbose=False)\n",
    "\n",
    "# Train the model\n",
    "model.fit(X_train, y_train) \n",
    "\n",
    "# Make predictions\n",
    "predictions = model.predict(X_test)\n",
    "\n",
    "# Calculate evaluation metrics\n",
    "catboost_mse = mean_squared_error(y_test, predictions)\n",
    "catboost_rmse = np.sqrt(catboost_mse)\n",
    "catboost_mae = mean_absolute_error(y_test, predictions)\n",
    "catboost_r2 = r2_score(y_test, predictions)\n",
    "\n",
    "# Print the results\n",
    "print('Mean Squared Error (MSE):', catboost_mse)\n",
    "print('Root Mean Squared Error (RMSE):', catboost_rmse)\n",
    "print('Mean Absolute Error (MAE):', catboost_mae)\n",
    "print('R2 Score:', catboost_r2)\n"
   ]
  },
  {
   "cell_type": "markdown",
   "metadata": {},
   "source": [
    "### Model 7: Ensemple Methods: LightGBM"
   ]
  },
  {
   "cell_type": "code",
   "execution_count": 50,
   "metadata": {},
   "outputs": [
    {
     "name": "stdout",
     "output_type": "stream",
     "text": [
      "Mean Squared Error (MSE): 88375.97242985482\n",
      "Root Mean Squared Error (RMSE): 297.28096546845177\n",
      "Mean Absolute Error (MAE): 227.76988177373357\n",
      "R2 Score: 0.8896506139846482\n"
     ]
    }
   ],
   "source": [
    "from lightgbm import LGBMRegressor\n",
    "from sklearn.metrics import mean_squared_error, r2_score, mean_absolute_error\n",
    "import numpy as np\n",
    "\n",
    "# Initialize the LightGBM Regressor\n",
    "lgb_model = LGBMRegressor(n_estimators=100, learning_rate=0.1, num_leaves=31)\n",
    "\n",
    "# Train the LightGBM Regressor\n",
    "lgb_model.fit(X_train, y_train)\n",
    "\n",
    "# Make predictions\n",
    "lgb_predictions = lgb_model.predict(X_test)\n",
    "\n",
    "# Calculate evaluation metrics\n",
    "lgb_mse = mean_squared_error(y_test, lgb_predictions)\n",
    "lgb_rmse = np.sqrt(lgb_mse)\n",
    "lgb_mae = mean_absolute_error(y_test, lgb_predictions)\n",
    "lgb_r2 = r2_score(y_test, lgb_predictions)\n",
    "\n",
    "# Print the results\n",
    "print('Mean Squared Error (MSE):', lgb_mse)\n",
    "print('Root Mean Squared Error (RMSE):', lgb_rmse)\n",
    "print('Mean Absolute Error (MAE):', lgb_mae)\n",
    "print('R2 Score:', lgb_r2)\n"
   ]
  },
  {
   "cell_type": "markdown",
   "metadata": {},
   "source": [
    "### Model 9: Ensemple Methods:XGBoost"
   ]
  },
  {
   "cell_type": "code",
   "execution_count": 52,
   "metadata": {},
   "outputs": [
    {
     "name": "stdout",
     "output_type": "stream",
     "text": [
      "Mean Squared Error (MSE): 52940.51571520263\n",
      "Root Mean Squared Error (RMSE): 230.08806078369784\n",
      "Mean Absolute Error (MAE): 178.60804929997371\n",
      "R2 Score: 0.9338965870033789\n"
     ]
    }
   ],
   "source": [
    "import numpy as np\n",
    "from xgboost import XGBRegressor\n",
    "from sklearn.metrics import mean_squared_error, r2_score, mean_absolute_error\n",
    "\n",
    "# Initialize the XGBoost Regressor\n",
    "xgb_model = XGBRegressor(n_estimators=100, learning_rate=0.1, max_depth=6, random_state=42)\n",
    "\n",
    "# Train the XGBoost Regressor\n",
    "xgb_model.fit(X_train, y_train)\n",
    "\n",
    "# Make predictions\n",
    "xgb_predictions = xgb_model.predict(X_test)\n",
    "\n",
    "# Calculate evaluation metrics\n",
    "xgb_mse = mean_squared_error(y_test, xgb_predictions)\n",
    "xgb_rmse = np.sqrt(xgb_mse)\n",
    "xgb_mae = mean_absolute_error(y_test, xgb_predictions)\n",
    "xgb_r2 = r2_score(y_test, xgb_predictions)\n",
    "\n",
    "# Print the results\n",
    "print('Mean Squared Error (MSE):', xgb_mse)\n",
    "print('Root Mean Squared Error (RMSE):', xgb_rmse)\n",
    "print('Mean Absolute Error (MAE):', xgb_mae)\n",
    "print('R2 Score:', xgb_r2)\n",
    "\n"
   ]
  },
  {
   "cell_type": "markdown",
   "metadata": {},
   "source": [
    "### Model 10:ARIMA  (AutoRegressive Integrated Moving Average)"
   ]
  },
  {
   "cell_type": "code",
   "execution_count": 55,
   "metadata": {},
   "outputs": [
    {
     "name": "stdout",
     "output_type": "stream",
     "text": [
      "Mean Squared Error (MSE): 832087.0435052434\n",
      "Root Mean Squared Error (RMSE): 912.1880527091129\n",
      "Mean Absolute Error (MAE): 749.2954283643796\n",
      "R2 Score: -0.03897351098469559\n"
     ]
    },
    {
     "name": "stderr",
     "output_type": "stream",
     "text": [
      "/Users/mustafaaldabbas/anaconda3/envs/myenv/lib/python3.8/site-packages/statsmodels/tsa/base/tsa_model.py:473: ValueWarning: An unsupported index was provided and will be ignored when e.g. forecasting.\n",
      "  self._init_dates(dates, freq)\n",
      "/Users/mustafaaldabbas/anaconda3/envs/myenv/lib/python3.8/site-packages/statsmodels/tsa/base/tsa_model.py:473: ValueWarning: An unsupported index was provided and will be ignored when e.g. forecasting.\n",
      "  self._init_dates(dates, freq)\n",
      "/Users/mustafaaldabbas/anaconda3/envs/myenv/lib/python3.8/site-packages/statsmodels/tsa/base/tsa_model.py:473: ValueWarning: An unsupported index was provided and will be ignored when e.g. forecasting.\n",
      "  self._init_dates(dates, freq)\n",
      "/Users/mustafaaldabbas/anaconda3/envs/myenv/lib/python3.8/site-packages/statsmodels/tsa/base/tsa_model.py:836: ValueWarning: No supported index is available. Prediction results will be given with an integer index beginning at `start`.\n",
      "  return get_prediction_index(\n",
      "/Users/mustafaaldabbas/anaconda3/envs/myenv/lib/python3.8/site-packages/statsmodels/tsa/base/tsa_model.py:836: FutureWarning: No supported index is available. In the next version, calling this method in a model without a supported index will result in an exception.\n",
      "  return get_prediction_index(\n"
     ]
    }
   ],
   "source": [
    "from statsmodels.tsa.arima.model import ARIMA\n",
    "from sklearn.metrics import mean_squared_error, r2_score, mean_absolute_error\n",
    "import numpy as np\n",
    "\n",
    "# Train ARIMA model\n",
    "arima_model = ARIMA(y_train, order=(5, 1, 0))\n",
    "arima_model_fit = arima_model.fit()\n",
    "\n",
    "# Make predictions\n",
    "arima_forecast = arima_model_fit.forecast(steps=len(y_test))\n",
    "arima_predictions = arima_forecast.values\n",
    "\n",
    "# Calculate evaluation metrics\n",
    "arima_mse = mean_squared_error(y_test, arima_predictions)\n",
    "arima_rmse = np.sqrt(arima_mse)\n",
    "arima_mae = mean_absolute_error(y_test, arima_predictions)\n",
    "arima_r2 = r2_score(y_test, arima_predictions)\n",
    "\n",
    "# Print the results\n",
    "print('Mean Squared Error (MSE):', arima_mse)\n",
    "print('Root Mean Squared Error (RMSE):', arima_rmse)\n",
    "print('Mean Absolute Error (MAE):', arima_mae)\n",
    "print('R2 Score:', arima_r2)\n"
   ]
  },
  {
   "cell_type": "markdown",
   "metadata": {},
   "source": [
    "### All results"
   ]
  },
  {
   "cell_type": "code",
   "execution_count": 56,
   "metadata": {},
   "outputs": [
    {
     "name": "stdout",
     "output_type": "stream",
     "text": [
      "                 Model        RMSE            MSE         MAE  R2 Score\n",
      "0    Linear Regression  197.639515   39061.377943  153.239917  0.951227\n",
      "1        Decision Tree  368.356673  135686.638664  281.681885  0.830577\n",
      "2        Random Forest  255.781775   65424.316301  174.473720  0.918309\n",
      "3    Gradient Boosting  202.727555   41098.461442  153.764795  0.948683\n",
      "4  K-Nearest Neighbors  365.840701  133839.418449  292.241492  0.832883\n",
      "5             CatBoost  201.002124   40401.853654  147.311860  0.949553\n",
      "6             LightGBM  297.280965   88375.972430  227.769882  0.889651\n",
      "7              XGBoost  230.088061   52940.515715  178.608049  0.933897\n",
      "8                ARIMA  912.188053  832087.043505  749.295428 -0.038974\n"
     ]
    }
   ],
   "source": [
    "import pandas as pd\n",
    "import numpy as np\n",
    "from sklearn.metrics import mean_squared_error, mean_absolute_error, r2_score\n",
    "\n",
    "# Initialize dictionary\n",
    "results = {\n",
    "    'Model': [],\n",
    "    'RMSE': [],\n",
    "    'MSE': [],\n",
    "    'MAE': [],\n",
    "    'R2 Score': []\n",
    "}\n",
    "\n",
    "# Add results for Linear Regression\n",
    "results['Model'].append('Linear Regression')\n",
    "results['RMSE'].append(linear_rmse)\n",
    "results['MSE'].append(linear_mse)\n",
    "results['MAE'].append(linear_mae)\n",
    "results['R2 Score'].append(linear_r2)\n",
    "\n",
    "# Add results for Decision Tree\n",
    "results['Model'].append('Decision Tree')\n",
    "results['RMSE'].append(dt_rmse)\n",
    "results['MSE'].append(dt_mse)\n",
    "results['MAE'].append(dt_mae)\n",
    "results['R2 Score'].append(dt_r2)\n",
    "\n",
    "# Add results for Random Forest\n",
    "results['Model'].append('Random Forest')\n",
    "results['RMSE'].append(rf_rmse)\n",
    "results['MSE'].append(rf_mse)\n",
    "results['MAE'].append(rf_mae)\n",
    "results['R2 Score'].append(rf_r2)\n",
    "\n",
    "# Add results for Gradient Boosting\n",
    "results['Model'].append('Gradient Boosting')\n",
    "results['RMSE'].append(gb_rmse)\n",
    "results['MSE'].append(gb_mse)\n",
    "results['MAE'].append(gb_mae)\n",
    "results['R2 Score'].append(gb_r2)\n",
    "\n",
    "# Add results for K-Nearest Neighbors\n",
    "results['Model'].append('K-Nearest Neighbors')\n",
    "results['RMSE'].append(knn_rmse)\n",
    "results['MSE'].append(knn_mse)\n",
    "results['MAE'].append(knn_mae)\n",
    "results['R2 Score'].append(knn_r2)\n",
    "\n",
    "# Add results for CatBoost\n",
    "results['Model'].append('CatBoost')\n",
    "results['RMSE'].append(catboost_rmse)\n",
    "results['MSE'].append(catboost_mse)\n",
    "results['MAE'].append(catboost_mae)\n",
    "results['R2 Score'].append(catboost_r2)\n",
    "\n",
    "# Add results for LightGBM\n",
    "results['Model'].append('LightGBM')\n",
    "results['RMSE'].append(lgb_rmse)\n",
    "results['MSE'].append(lgb_mse)\n",
    "results['MAE'].append(lgb_mae)\n",
    "results['R2 Score'].append(lgb_r2)\n",
    "\n",
    "\n",
    "# Add results for XGBoost\n",
    "results['Model'].append('XGBoost')\n",
    "results['RMSE'].append(xgb_rmse)\n",
    "results['MSE'].append(xgb_mse)\n",
    "results['MAE'].append(xgb_mae)\n",
    "results['R2 Score'].append(xgb_r2)\n",
    "\n",
    "# Add results for ARIMA\n",
    "results['Model'].append('ARIMA')\n",
    "results['RMSE'].append(arima_rmse)\n",
    "results['MSE'].append(arima_mse)\n",
    "results['MAE'].append(arima_mae)\n",
    "results['R2 Score'].append(arima_r2)\n",
    "\n",
    "# Convert dictionary to DataFrame\n",
    "results_df = pd.DataFrame(results)\n",
    "\n",
    "# Display the results\n",
    "print(results_df)\n"
   ]
  },
  {
   "cell_type": "code",
   "execution_count": 57,
   "metadata": {},
   "outputs": [
    {
     "name": "stdout",
     "output_type": "stream",
     "text": [
      "Models sorted by RMSE:\n",
      "                 Model        RMSE            MSE         MAE  R2 Score\n",
      "0    Linear Regression  197.639515   39061.377943  153.239917  0.951227\n",
      "5             CatBoost  201.002124   40401.853654  147.311860  0.949553\n",
      "3    Gradient Boosting  202.727555   41098.461442  153.764795  0.948683\n",
      "7              XGBoost  230.088061   52940.515715  178.608049  0.933897\n",
      "2        Random Forest  255.781775   65424.316301  174.473720  0.918309\n",
      "6             LightGBM  297.280965   88375.972430  227.769882  0.889651\n",
      "4  K-Nearest Neighbors  365.840701  133839.418449  292.241492  0.832883\n",
      "1        Decision Tree  368.356673  135686.638664  281.681885  0.830577\n",
      "8                ARIMA  912.188053  832087.043505  749.295428 -0.038974\n",
      "Models sorted by R² Score:\n",
      "                 Model        RMSE            MSE         MAE  R2 Score\n",
      "0    Linear Regression  197.639515   39061.377943  153.239917  0.951227\n",
      "5             CatBoost  201.002124   40401.853654  147.311860  0.949553\n",
      "3    Gradient Boosting  202.727555   41098.461442  153.764795  0.948683\n",
      "7              XGBoost  230.088061   52940.515715  178.608049  0.933897\n",
      "2        Random Forest  255.781775   65424.316301  174.473720  0.918309\n",
      "6             LightGBM  297.280965   88375.972430  227.769882  0.889651\n",
      "4  K-Nearest Neighbors  365.840701  133839.418449  292.241492  0.832883\n",
      "1        Decision Tree  368.356673  135686.638664  281.681885  0.830577\n",
      "8                ARIMA  912.188053  832087.043505  749.295428 -0.038974\n"
     ]
    }
   ],
   "source": [
    "# Sort by RMSE to find the best model\n",
    "sorted_by_rmse = results_df.sort_values(by='RMSE')\n",
    "print(\"Models sorted by RMSE:\")\n",
    "print(sorted_by_rmse)\n",
    "\n",
    "# Sort by R² Score to find the best model\n",
    "sorted_by_r2 = results_df.sort_values(by='R2 Score', ascending=False)\n",
    "print(\"Models sorted by R² Score:\")\n",
    "print(sorted_by_r2)"
   ]
  },
  {
   "cell_type": "markdown",
   "metadata": {},
   "source": [
    "#### Models sorted by RMSE:\n",
    "\n",
    "    - Linear Regression: RMSE = 9.411405, R² Score = 0.951227\n",
    "    - Gradient Boosting: RMSE = 9.503874, R² Score = 0.950263\n",
    "    - CatBoost: RMSE = 9.571530, R² Score = 0.949553\n",
    "\n",
    "####  Models sorted by R² Score:\n",
    "\n",
    "    - Linear Regression: R² Score = 0.951227, RMSE = 9.411405\n",
    "    - Gradient Boosting: R² Score = 0.950263, RMSE = 9.503874\n",
    "    - CatBoost: R² Score = 0.949553, RMSE = 9.571530\n",
    "\n",
    "####  Conclusion:\n",
    "Linear Regression is the best model as it has the lowest RMSE (9.411405) and the highest R² Score (0.951227) among all models evaluated."
   ]
  },
  {
   "cell_type": "markdown",
   "metadata": {},
   "source": [
    "### Linear Regression Hyperparameter Tuning with Ridge Regression\n"
   ]
  },
  {
   "cell_type": "code",
   "execution_count": 58,
   "metadata": {},
   "outputs": [
    {
     "name": "stdout",
     "output_type": "stream",
     "text": [
      "Best Ridge Parameters: {'alpha': 100}\n",
      "Ridge Mean Squared Error (MSE): 39199.268034053144\n",
      "Ridge Root Mean Squared Error (RMSE): 197.98805023044483\n",
      "Ridge Mean Absolute Error (MAE): 152.11490481512686\n",
      "Ridge R^2 Score: 0.9510543981482946\n"
     ]
    }
   ],
   "source": [
    "from sklearn.linear_model import Ridge\n",
    "from sklearn.model_selection import GridSearchCV\n",
    "from sklearn.metrics import mean_squared_error\n",
    "import numpy as np\n",
    "\n",
    "# Define the parameter grid for Ridge Regression\n",
    "param_grid = {\n",
    "    'alpha': [0.1, 1, 10, 100]  # Regularization strength\n",
    "}\n",
    "\n",
    "# Initialize Ridge Regression model\n",
    "ridge_model = Ridge()\n",
    "\n",
    "# Set up Grid Search\n",
    "grid_search = GridSearchCV(ridge_model, param_grid, cv=5, scoring='neg_mean_squared_error')\n",
    "\n",
    "# Fit Grid Search\n",
    "grid_search.fit(X_train, y_train)\n",
    "\n",
    "# Best parameters and model\n",
    "best_params = grid_search.best_params_\n",
    "best_model = grid_search.best_estimator_\n",
    "\n",
    "# Make predictions with the best model\n",
    "ridge_predictions = best_model.predict(X_test)\n",
    "\n",
    "# Calculate evaluation metrics\n",
    "ridge_mse = mean_squared_error(y_test, ridge_predictions)\n",
    "ridge_rmse = np.sqrt(ridge_mse)\n",
    "ridge_mae = mean_absolute_error(y_test, ridge_predictions)\n",
    "ridge_r2 = r2_score(y_test, ridge_predictions)\n",
    "\n",
    "# Print results\n",
    "print('Best Ridge Parameters:', best_params)\n",
    "print('Ridge Mean Squared Error (MSE):', ridge_mse)\n",
    "print('Ridge Root Mean Squared Error (RMSE):', ridge_rmse)\n",
    "print('Ridge Mean Absolute Error (MAE):', ridge_mae)\n",
    "print('Ridge R^2 Score:', ridge_r2)"
   ]
  },
  {
   "cell_type": "code",
   "execution_count": 59,
   "metadata": {},
   "outputs": [
    {
     "name": "stdout",
     "output_type": "stream",
     "text": [
      "Mean Squared Error (MSE): 39061.377943373016\n",
      "Root Mean Squared Error (RMSE): 197.63951513645497\n",
      "Mean Absolute Error (MAE): 153.2399170238527\n",
      "R2 Score: 0.9512265726254266\n"
     ]
    }
   ],
   "source": [
    "# previous results before Hyperparameter Tuning with Ridge Regression\n",
    "print('Mean Squared Error (MSE):', linear_mse)\n",
    "print('Root Mean Squared Error (RMSE):', linear_rmse)\n",
    "print('Mean Absolute Error (MAE):', linear_mae)\n",
    "print('R2 Score:', linear_r2)"
   ]
  },
  {
   "cell_type": "markdown",
   "metadata": {},
   "source": [
    "### Forecast using the Linear Regression Model\n"
   ]
  },
  {
   "cell_type": "code",
   "execution_count": 38,
   "metadata": {},
   "outputs": [
    {
     "data": {
      "text/html": [
       "<div>\n",
       "<style scoped>\n",
       "    .dataframe tbody tr th:only-of-type {\n",
       "        vertical-align: middle;\n",
       "    }\n",
       "\n",
       "    .dataframe tbody tr th {\n",
       "        vertical-align: top;\n",
       "    }\n",
       "\n",
       "    .dataframe thead th {\n",
       "        text-align: right;\n",
       "    }\n",
       "</style>\n",
       "<table border=\"1\" class=\"dataframe\">\n",
       "  <thead>\n",
       "    <tr style=\"text-align: right;\">\n",
       "      <th></th>\n",
       "      <th>date</th>\n",
       "      <th>unit_price</th>\n",
       "      <th>quantity</th>\n",
       "      <th>rating</th>\n",
       "      <th>day</th>\n",
       "      <th>month</th>\n",
       "      <th>year</th>\n",
       "      <th>gross_income</th>\n",
       "      <th>branch_B</th>\n",
       "      <th>branch_C</th>\n",
       "      <th>quantity_lag1</th>\n",
       "      <th>unit_price_lag1</th>\n",
       "      <th>quantity_roll7</th>\n",
       "      <th>unit_price_roll7</th>\n",
       "      <th>day_sin</th>\n",
       "      <th>day_cos</th>\n",
       "    </tr>\n",
       "  </thead>\n",
       "  <tbody>\n",
       "    <tr>\n",
       "      <th>0</th>\n",
       "      <td>2019-01-03</td>\n",
       "      <td>53.376667</td>\n",
       "      <td>19</td>\n",
       "      <td>7.500000</td>\n",
       "      <td>3</td>\n",
       "      <td>1</td>\n",
       "      <td>2019</td>\n",
       "      <td>44.6385</td>\n",
       "      <td>0.0</td>\n",
       "      <td>0.0</td>\n",
       "      <td>10.0</td>\n",
       "      <td>65.745000</td>\n",
       "      <td>21.142857</td>\n",
       "      <td>51.745357</td>\n",
       "      <td>0.571268</td>\n",
       "      <td>0.820763</td>\n",
       "    </tr>\n",
       "    <tr>\n",
       "      <th>1</th>\n",
       "      <td>2019-01-03</td>\n",
       "      <td>48.500000</td>\n",
       "      <td>3</td>\n",
       "      <td>8.400000</td>\n",
       "      <td>3</td>\n",
       "      <td>1</td>\n",
       "      <td>2019</td>\n",
       "      <td>5.9060</td>\n",
       "      <td>0.0</td>\n",
       "      <td>1.0</td>\n",
       "      <td>19.0</td>\n",
       "      <td>53.376667</td>\n",
       "      <td>16.285714</td>\n",
       "      <td>50.468214</td>\n",
       "      <td>0.571268</td>\n",
       "      <td>0.820763</td>\n",
       "    </tr>\n",
       "    <tr>\n",
       "      <th>2</th>\n",
       "      <td>2019-01-03</td>\n",
       "      <td>72.843333</td>\n",
       "      <td>15</td>\n",
       "      <td>8.533333</td>\n",
       "      <td>3</td>\n",
       "      <td>1</td>\n",
       "      <td>2019</td>\n",
       "      <td>48.4140</td>\n",
       "      <td>1.0</td>\n",
       "      <td>0.0</td>\n",
       "      <td>3.0</td>\n",
       "      <td>48.500000</td>\n",
       "      <td>15.000000</td>\n",
       "      <td>52.281071</td>\n",
       "      <td>0.571268</td>\n",
       "      <td>0.820763</td>\n",
       "    </tr>\n",
       "    <tr>\n",
       "      <th>3</th>\n",
       "      <td>2019-01-04</td>\n",
       "      <td>66.650000</td>\n",
       "      <td>9</td>\n",
       "      <td>9.700000</td>\n",
       "      <td>4</td>\n",
       "      <td>1</td>\n",
       "      <td>2019</td>\n",
       "      <td>29.9925</td>\n",
       "      <td>0.0</td>\n",
       "      <td>1.0</td>\n",
       "      <td>15.0</td>\n",
       "      <td>72.843333</td>\n",
       "      <td>13.428571</td>\n",
       "      <td>54.935000</td>\n",
       "      <td>0.724793</td>\n",
       "      <td>0.688967</td>\n",
       "    </tr>\n",
       "    <tr>\n",
       "      <th>4</th>\n",
       "      <td>2019-01-04</td>\n",
       "      <td>62.433333</td>\n",
       "      <td>8</td>\n",
       "      <td>4.866667</td>\n",
       "      <td>4</td>\n",
       "      <td>1</td>\n",
       "      <td>2019</td>\n",
       "      <td>24.3135</td>\n",
       "      <td>1.0</td>\n",
       "      <td>0.0</td>\n",
       "      <td>9.0</td>\n",
       "      <td>66.650000</td>\n",
       "      <td>13.571429</td>\n",
       "      <td>57.844762</td>\n",
       "      <td>0.724793</td>\n",
       "      <td>0.688967</td>\n",
       "    </tr>\n",
       "  </tbody>\n",
       "</table>\n",
       "</div>"
      ],
      "text/plain": [
       "        date  unit_price  quantity    rating  day  month  year  gross_income  \\\n",
       "0 2019-01-03   53.376667        19  7.500000    3      1  2019       44.6385   \n",
       "1 2019-01-03   48.500000         3  8.400000    3      1  2019        5.9060   \n",
       "2 2019-01-03   72.843333        15  8.533333    3      1  2019       48.4140   \n",
       "3 2019-01-04   66.650000         9  9.700000    4      1  2019       29.9925   \n",
       "4 2019-01-04   62.433333         8  4.866667    4      1  2019       24.3135   \n",
       "\n",
       "   branch_B  branch_C  quantity_lag1  unit_price_lag1  quantity_roll7  \\\n",
       "0       0.0       0.0           10.0        65.745000       21.142857   \n",
       "1       0.0       1.0           19.0        53.376667       16.285714   \n",
       "2       1.0       0.0            3.0        48.500000       15.000000   \n",
       "3       0.0       1.0           15.0        72.843333       13.428571   \n",
       "4       1.0       0.0            9.0        66.650000       13.571429   \n",
       "\n",
       "   unit_price_roll7   day_sin   day_cos  \n",
       "0         51.745357  0.571268  0.820763  \n",
       "1         50.468214  0.571268  0.820763  \n",
       "2         52.281071  0.571268  0.820763  \n",
       "3         54.935000  0.724793  0.688967  \n",
       "4         57.844762  0.724793  0.688967  "
      ]
     },
     "execution_count": 38,
     "metadata": {},
     "output_type": "execute_result"
    }
   ],
   "source": [
    "combined_df_encoded_dropped.head()"
   ]
  }
 ],
 "metadata": {
  "kernelspec": {
   "display_name": "Python 3",
   "language": "python",
   "name": "python3"
  },
  "language_info": {
   "codemirror_mode": {
    "name": "ipython",
    "version": 3
   },
   "file_extension": ".py",
   "mimetype": "text/x-python",
   "name": "python",
   "nbconvert_exporter": "python",
   "pygments_lexer": "ipython3",
   "version": "3.8.19"
  }
 },
 "nbformat": 4,
 "nbformat_minor": 2
}
